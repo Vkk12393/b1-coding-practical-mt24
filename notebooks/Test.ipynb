{
 "cells": [
  {
   "cell_type": "markdown",
   "id": "8c2dc61b",
   "metadata": {},
   "source": [
    "Test"
   ]
  },
  {
   "cell_type": "code",
   "execution_count": 8,
   "id": "20421c3e",
   "metadata": {},
   "outputs": [
    {
     "name": "stdout",
     "output_type": "stream",
     "text": [
      "['/Library/Frameworks/Python.framework/Versions/3.14/lib/python314.zip', '/Library/Frameworks/Python.framework/Versions/3.14/lib/python3.14', '/Library/Frameworks/Python.framework/Versions/3.14/lib/python3.14/lib-dynload', '', '/Users/vishwaskumar/Documents/University/year 3/B1/Scientific Coding/b1-coding-practical-mt24/.b1coding/lib/python3.14/site-packages', '/Users/vishwaskumar/Documents/University/year 3/B1/Scientific Coding/b1-coding-practical-mt24', '/Users/vishwaskumar/Documents/University/year 3/B1/Scientific Coding/b1-coding-practical-mt24', '/Users/vishwaskumar/Documents/University/year 3/B1/Scientific Coding/b1-coding-practical-mt24', '/Users/vishwaskumar/Documents/University/year 3/B1/Scientific Coding/b1-coding-practical-mt24']\n"
     ]
    }
   ],
   "source": [
    "import sys  \n",
    "print(sys.path)"
   ]
  },
  {
   "cell_type": "code",
   "execution_count": 11,
   "id": "c18e340b",
   "metadata": {},
   "outputs": [
    {
     "ename": "TypeError",
     "evalue": "PDController.compute_action() missing 1 required positional argument: 'measurement'",
     "output_type": "error",
     "traceback": [
      "\u001b[31m---------------------------------------------------------------------------\u001b[39m",
      "\u001b[31mTypeError\u001b[39m                                 Traceback (most recent call last)",
      "\u001b[36mCell\u001b[39m\u001b[36m \u001b[39m\u001b[32mIn[11]\u001b[39m\u001b[32m, line 14\u001b[39m\n\u001b[32m     11\u001b[39m closed_loop = ClosedLoop(sub, PDController)\n\u001b[32m     12\u001b[39m mission = Mission.from_csv(\u001b[33m\"\u001b[39m\u001b[33m../data/mission.csv\u001b[39m\u001b[33m\"\u001b[39m) \u001b[38;5;66;03m# You must implement this method in the Mission class\u001b[39;00m\n\u001b[32m---> \u001b[39m\u001b[32m14\u001b[39m trajectory = \u001b[43mclosed_loop\u001b[49m\u001b[43m.\u001b[49m\u001b[43msimulate_with_random_disturbances\u001b[49m\u001b[43m(\u001b[49m\u001b[43mmission\u001b[49m\u001b[43m)\u001b[49m\n\u001b[32m     15\u001b[39m trajectory.plot_completed_mission(mission)\n",
      "\u001b[36mFile \u001b[39m\u001b[32m~/Documents/University/year 3/B1/Scientific Coding/b1-coding-practical-mt24/uuv_mission/dynamic.py:115\u001b[39m, in \u001b[36mClosedLoop.simulate_with_random_disturbances\u001b[39m\u001b[34m(self, mission, variance)\u001b[39m\n\u001b[32m    113\u001b[39m \u001b[38;5;28;01mdef\u001b[39;00m\u001b[38;5;250m \u001b[39m\u001b[34msimulate_with_random_disturbances\u001b[39m(\u001b[38;5;28mself\u001b[39m, mission: Mission, variance: \u001b[38;5;28mfloat\u001b[39m = \u001b[32m0.5\u001b[39m) -> Trajectory:\n\u001b[32m    114\u001b[39m     disturbances = np.random.normal(\u001b[32m0\u001b[39m, variance, \u001b[38;5;28mlen\u001b[39m(mission.reference))\n\u001b[32m--> \u001b[39m\u001b[32m115\u001b[39m     \u001b[38;5;28;01mreturn\u001b[39;00m \u001b[38;5;28;43mself\u001b[39;49m\u001b[43m.\u001b[49m\u001b[43msimulate\u001b[49m\u001b[43m(\u001b[49m\u001b[43mmission\u001b[49m\u001b[43m,\u001b[49m\u001b[43m \u001b[49m\u001b[43mdisturbances\u001b[49m\u001b[43m)\u001b[49m\n",
      "\u001b[36mFile \u001b[39m\u001b[32m~/Documents/University/year 3/B1/Scientific Coding/b1-coding-practical-mt24/uuv_mission/dynamic.py:108\u001b[39m, in \u001b[36mClosedLoop.simulate\u001b[39m\u001b[34m(self, mission, disturbances)\u001b[39m\n\u001b[32m    106\u001b[39m     observation_t = \u001b[38;5;28mself\u001b[39m.plant.get_depth()\n\u001b[32m    107\u001b[39m     \u001b[38;5;66;03m# Call your controller here\u001b[39;00m\n\u001b[32m--> \u001b[39m\u001b[32m108\u001b[39m     actions[t] = \u001b[38;5;28;43mself\u001b[39;49m\u001b[43m.\u001b[49m\u001b[43mcontroller\u001b[49m\u001b[43m.\u001b[49m\u001b[43mcompute_action\u001b[49m\u001b[43m(\u001b[49m\u001b[43mmission\u001b[49m\u001b[43m.\u001b[49m\u001b[43mreference\u001b[49m\u001b[43m[\u001b[49m\u001b[43mt\u001b[49m\u001b[43m]\u001b[49m\u001b[43m,\u001b[49m\u001b[43m \u001b[49m\u001b[43mobservation_t\u001b[49m\u001b[43m)\u001b[49m\n\u001b[32m    109\u001b[39m     \u001b[38;5;28mself\u001b[39m.plant.transition(actions[t], disturbances[t])\n\u001b[32m    111\u001b[39m \u001b[38;5;28;01mreturn\u001b[39;00m Trajectory(positions)\n",
      "\u001b[31mTypeError\u001b[39m: PDController.compute_action() missing 1 required positional argument: 'measurement'"
     ]
    }
   ],
   "source": [
    "# Import relevant modules\n",
    "\n",
    "import os\n",
    "\n",
    "sys.path.append(os.path.abspath('..'))\n",
    "from uuv_mission.dynamic import Submarine, ClosedLoop, Trajectory, Mission\n",
    "from uuv_mission.control import PDController\n",
    "\n",
    "sub = Submarine()\n",
    "# Instantiate your controller (depending on your implementation)\n",
    "closed_loop = ClosedLoop(sub, PDController)\n",
    "mission = Mission.from_csv(\"../data/mission.csv\") # You must implement this method in the Mission class\n",
    "\n",
    "trajectory = closed_loop.simulate_with_random_disturbances(mission)\n",
    "trajectory.plot_completed_mission(mission)"
   ]
  }
 ],
 "metadata": {
  "kernelspec": {
   "display_name": ".b1coding (3.14.0)",
   "language": "python",
   "name": "python3"
  },
  "language_info": {
   "codemirror_mode": {
    "name": "ipython",
    "version": 3
   },
   "file_extension": ".py",
   "mimetype": "text/x-python",
   "name": "python",
   "nbconvert_exporter": "python",
   "pygments_lexer": "ipython3",
   "version": "3.14.0"
  }
 },
 "nbformat": 4,
 "nbformat_minor": 5
}
